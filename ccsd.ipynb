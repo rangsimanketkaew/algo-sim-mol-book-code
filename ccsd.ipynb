{
 "cells": [
  {
   "cell_type": "markdown",
   "metadata": {},
   "source": [
    "# Coupled Cluster with Singles and Doubles (CCSD)\n",
    "\n",
    "The following codes implement the CCSD using the formalism based on factorized cluster operatpor reported in \n",
    "Stanton, et al, J. Chem. Phys 94 (6), 15 March 1991\n",
    "https://pubs.aip.org/aip/jcp/article/94/6/4334/221745/A-direct-product-decomposition-approach-for"
   ]
  },
  {
   "cell_type": "code",
   "execution_count": 1,
   "metadata": {},
   "outputs": [],
   "source": [
    "import numpy as np"
   ]
  },
  {
   "cell_type": "markdown",
   "metadata": {},
   "source": [
    "### Functions\n"
   ]
  },
  {
   "cell_type": "code",
   "execution_count": 2,
   "metadata": {},
   "outputs": [],
   "source": [
    "def eint(a, b, c, d):\n",
    "    \"\"\"\n",
    "    Return compound index given four indices\n",
    "    \"\"\"\n",
    "    if a > b:\n",
    "        ab = a * (a + 1) / 2 + b\n",
    "    else:\n",
    "        ab = b * (b + 1) / 2 + a\n",
    "    if c > d:\n",
    "        cd = c * (c + 1) / 2 + d\n",
    "    else:\n",
    "        cd = d * (d + 1) / 2 + c\n",
    "    if ab > cd:\n",
    "        abcd = ab * (ab + 1) / 2 + cd\n",
    "    else:\n",
    "        abcd = cd * (cd + 1) / 2 + ab\n",
    "    return abcd"
   ]
  },
  {
   "cell_type": "code",
   "execution_count": 3,
   "metadata": {},
   "outputs": [],
   "source": [
    "def teimo(a, b, c, d):\n",
    "    \"\"\"\n",
    "    Return Value of spatial MO two electron integral\n",
    "    Example: (12|34) = tei(1,2,3,4)\n",
    "    \"\"\"\n",
    "    return ttmo.get(eint(a, b, c, d), 0.0e0)"
   ]
  },
  {
   "cell_type": "markdown",
   "metadata": {},
   "source": [
    "### Initialize orbital energies and transformed two-electron integrals\n"
   ]
  },
  {
   "cell_type": "code",
   "execution_count": 4,
   "metadata": {},
   "outputs": [],
   "source": [
    "Nelec = 2  # we have 2 electrons in HeH+\n",
    "dim = 2  # we have two spatial basis functions in STO-3G\n",
    "E = [-1.52378656, -0.26763148]  # molecular orbital energies\n",
    "# python dictionary containing two-electron repulsion integrals\n",
    "ttmo = {\n",
    "    5.0: 0.94542695583037617,\n",
    "    12.0: 0.17535895381500544,\n",
    "    14.0: 0.12682234020148653,\n",
    "    17.0: 0.59855327701641903,\n",
    "    19.0: -0.056821143621433257,\n",
    "    20.0: 0.74715464784363106,\n",
    "}\n",
    "ENUC = 1.1386276671  # nuclear repulsion energy for HeH+\n",
    "EN = -3.99300007772  # SCF energy"
   ]
  },
  {
   "cell_type": "markdown",
   "metadata": {},
   "source": [
    "### Convert spartial MOs to Spin MOs\n"
   ]
  },
  {
   "cell_type": "code",
   "execution_count": 5,
   "metadata": {},
   "outputs": [],
   "source": [
    "# This makes the spin basis double bar integral (physicists' notation)\n",
    "\n",
    "spinints = np.zeros((dim * 2, dim * 2, dim * 2, dim * 2))\n",
    "\n",
    "for p in range(1, dim * 2 + 1):\n",
    "    for q in range(1, dim * 2 + 1):\n",
    "        for r in range(1, dim * 2 + 1):\n",
    "            for s in range(1, dim * 2 + 1):\n",
    "                value1 = (\n",
    "                    teimo((p + 1) // 2, (r + 1) // 2, (q + 1) // 2, (s + 1) // 2)\n",
    "                    * (p % 2 == r % 2)\n",
    "                    * (q % 2 == s % 2)\n",
    "                )\n",
    "                value2 = (\n",
    "                    teimo((p + 1) // 2, (s + 1) // 2, (q + 1) // 2, (r + 1) // 2)\n",
    "                    * (p % 2 == s % 2)\n",
    "                    * (q % 2 == r % 2)\n",
    "                )\n",
    "                spinints[p - 1, q - 1, r - 1, s - 1] = value1 - value2"
   ]
  },
  {
   "cell_type": "markdown",
   "metadata": {},
   "source": [
    "### Spin basis fock matrix eigenvalues\n"
   ]
  },
  {
   "cell_type": "code",
   "execution_count": 6,
   "metadata": {},
   "outputs": [],
   "source": [
    "fs = np.zeros((dim * 2))\n",
    "for i in range(0, dim * 2):\n",
    "    fs[i] = E[i // 2]\n",
    "# put MO energies in diagonal array\n",
    "fs = np.diag(fs)"
   ]
  },
  {
   "cell_type": "markdown",
   "metadata": {},
   "source": [
    "### Perform CCSD Calculation\n"
   ]
  },
  {
   "cell_type": "code",
   "execution_count": 7,
   "metadata": {},
   "outputs": [],
   "source": [
    "# twice the dimension of spatial orbital\n",
    "dim = dim * 2\n",
    "\n",
    "# Initialize empty T1 (ts) and T2 (td) arrays\n",
    "ts = np.zeros((dim, dim))\n",
    "td = np.zeros((dim, dim, dim, dim))\n",
    "\n",
    "# Initial guess T2 --- from MP2 calculation!\n",
    "for a in range(Nelec, dim):\n",
    "    for b in range(Nelec, dim):\n",
    "        for i in range(0, Nelec):\n",
    "            for j in range(0, Nelec):\n",
    "                td[a, b, i, j] += spinints[i, j, a, b] / (fs[i, i] + fs[j, j] - fs[a, a] - fs[b, b])\n",
    "\n",
    "# Make denominator arrays Dai, Dabij\n",
    "# Stanton eq (12)\n",
    "Dai = np.zeros((dim, dim))\n",
    "for a in range(Nelec, dim):\n",
    "    for i in range(0, Nelec):\n",
    "        Dai[a, i] = fs[i, i] - fs[a, a]\n",
    "\n",
    "# Stanton eq (13)\n",
    "Dabij = np.zeros((dim, dim, dim, dim))\n",
    "for a in range(Nelec, dim):\n",
    "    for b in range(Nelec, dim):\n",
    "        for i in range(0, Nelec):\n",
    "            for j in range(0, Nelec):\n",
    "                Dabij[a, b, i, j] = fs[i, i] + fs[j, j] - fs[a, a] - fs[b, b]\n",
    "\n",
    "\n",
    "# Stanton eq (9)\n",
    "def taus(a, b, i, j):\n",
    "    taus = td[a, b, i, j] + 0.5 * (ts[a, i] * ts[b, j] - ts[b, i] * ts[a, j])\n",
    "    return taus\n",
    "\n",
    "\n",
    "# Stanton eq (10)\n",
    "def tau(a, b, i, j):\n",
    "    tau = td[a, b, i, j] + ts[a, i] * ts[b, j] - ts[b, i] * ts[a, j]\n",
    "    return tau"
   ]
  },
  {
   "cell_type": "markdown",
   "metadata": {},
   "source": [
    "We need to update our intermediates at the beginning, and at the end of each iteration. Each iteration provides a new guess at the amplitudes T1 (ts) and T2 (td), that *hopefully* converges to a stable, ground-state, solution."
   ]
  },
  {
   "cell_type": "code",
   "execution_count": 8,
   "metadata": {},
   "outputs": [],
   "source": [
    "def update_inter(x):\n",
    "    \"\"\"\n",
    "    Update two-particle intermediates\n",
    "    \"\"\"\n",
    "    if x == True:\n",
    "        # Stanton eq (3)\n",
    "        Fae = np.zeros((dim, dim))\n",
    "        for a in range(Nelec, dim):\n",
    "            for e in range(Nelec, dim):\n",
    "                Fae[a, e] = (1 - (a == e)) * fs[a, e]\n",
    "                for m in range(0, Nelec):\n",
    "                    Fae[a, e] += -0.5 * fs[m, e] * ts[a, m]\n",
    "                    for f in range(Nelec, dim):\n",
    "                        Fae[a, e] += ts[f, m] * spinints[m, a, f, e]\n",
    "                        for n in range(0, Nelec):\n",
    "                            Fae[a, e] += -0.5 * taus(a, f, m, n) * spinints[m, n, e, f]\n",
    "\n",
    "        # Stanton eq (4)\n",
    "        Fmi = np.zeros((dim, dim))\n",
    "        for m in range(0, Nelec):\n",
    "            for i in range(0, Nelec):\n",
    "                Fmi[m, i] = (1 - (m == i)) * fs[m, i]\n",
    "                for e in range(Nelec, dim):\n",
    "                    Fmi[m, i] += 0.5 * ts[e, i] * fs[m, e]\n",
    "                    for n in range(0, Nelec):\n",
    "                        Fmi[m, i] += ts[e, n] * spinints[m, n, i, e]\n",
    "                        for f in range(Nelec, dim):\n",
    "                            Fmi[m, i] += 0.5 * taus(e, f, i, n) * spinints[m, n, e, f]\n",
    "\n",
    "        # Stanton eq (5)\n",
    "        Fme = np.zeros((dim, dim))\n",
    "        for m in range(0, Nelec):\n",
    "            for e in range(Nelec, dim):\n",
    "                Fme[m, e] = fs[m, e]\n",
    "                for n in range(0, Nelec):\n",
    "                    for f in range(Nelec, dim):\n",
    "                        Fme[m, e] += ts[f, n] * spinints[m, n, e, f]\n",
    "\n",
    "        # Stanton eq (6)\n",
    "        Wmnij = np.zeros((dim, dim, dim, dim))\n",
    "        for m in range(0, Nelec):\n",
    "            for n in range(0, Nelec):\n",
    "                for i in range(0, Nelec):\n",
    "                    for j in range(0, Nelec):\n",
    "                        Wmnij[m, n, i, j] = spinints[m, n, i, j]\n",
    "                        for e in range(Nelec, dim):\n",
    "                            Wmnij[m, n, i, j] += (\n",
    "                                ts[e, j] * spinints[m, n, i, e] - ts[e, i] * spinints[m, n, j, e]\n",
    "                            )\n",
    "                            for f in range(Nelec, dim):\n",
    "                                Wmnij[m, n, i, j] += 0.25 * tau(e, f, i, j) * spinints[m, n, e, f]\n",
    "\n",
    "        # Stanton eq (7)\n",
    "        Wabef = np.zeros((dim, dim, dim, dim))\n",
    "        for a in range(Nelec, dim):\n",
    "            for b in range(Nelec, dim):\n",
    "                for e in range(Nelec, dim):\n",
    "                    for f in range(Nelec, dim):\n",
    "                        Wabef[a, b, e, f] = spinints[a, b, e, f]\n",
    "                        for m in range(0, Nelec):\n",
    "                            Wabef[a, b, e, f] += (\n",
    "                                -ts[b, m] * spinints[a, m, e, f] + ts[a, m] * spinints[b, m, e, f]\n",
    "                            )\n",
    "                            for n in range(0, Nelec):\n",
    "                                Wabef[a, b, e, f] += 0.25 * tau(a, b, m, n) * spinints[m, n, e, f]\n",
    "\n",
    "        # Stanton eq (8)\n",
    "        Wmbej = np.zeros((dim, dim, dim, dim))\n",
    "        for m in range(0, Nelec):\n",
    "            for b in range(Nelec, dim):\n",
    "                for e in range(Nelec, dim):\n",
    "                    for j in range(0, Nelec):\n",
    "                        Wmbej[m, b, e, j] = spinints[m, b, e, j]\n",
    "                        for f in range(Nelec, dim):\n",
    "                            Wmbej[m, b, e, j] += ts[f, j] * spinints[m, b, e, f]\n",
    "                        for n in range(0, Nelec):\n",
    "                            Wmbej[m, b, e, j] += -ts[b, n] * spinints[m, n, e, j]\n",
    "                            for f in range(Nelec, dim):\n",
    "                                Wmbej[m, b, e, j] += (\n",
    "                                    -(0.5 * td[f, b, j, n] + ts[f, j] * ts[b, n]) * spinints[m, n, e, f]\n",
    "                                )\n",
    "\n",
    "        return Fae, Fmi, Fme, Wmnij, Wabef, Wmbej"
   ]
  },
  {
   "cell_type": "markdown",
   "metadata": {},
   "source": [
    "makeT1 and makeT2, as they imply, construct the actual amplitudes necessary for computing the CCSD energy (or computing an EOM-CCSD Hamiltonian, etc.)"
   ]
  },
  {
   "cell_type": "code",
   "execution_count": 9,
   "metadata": {},
   "outputs": [],
   "source": [
    "# Stanton eq (1)\n",
    "def makeT1(x, ts, td):\n",
    "    if x == True:\n",
    "        tsnew = np.zeros((dim, dim))\n",
    "        for a in range(Nelec, dim):\n",
    "            for i in range(0, Nelec):\n",
    "                tsnew[a, i] = fs[i, a]\n",
    "                for e in range(Nelec, dim):\n",
    "                    tsnew[a, i] += ts[e, i] * Fae[a, e]\n",
    "                for m in range(0, Nelec):\n",
    "                    tsnew[a, i] += -ts[a, m] * Fmi[m, i]\n",
    "                    for e in range(Nelec, dim):\n",
    "                        tsnew[a, i] += td[a, e, i, m] * Fme[m, e]\n",
    "                        for f in range(Nelec, dim):\n",
    "                            tsnew[a, i] += -0.5 * td[e, f, i, m] * spinints[m, a, e, f]\n",
    "                        for n in range(0, Nelec):\n",
    "                            tsnew[a, i] += -0.5 * td[a, e, m, n] * spinints[n, m, e, i]\n",
    "                for n in range(0, Nelec):\n",
    "                    for f in range(Nelec, dim):\n",
    "                        tsnew[a, i] += -ts[f, n] * spinints[n, a, i, f]\n",
    "                tsnew[a, i] = tsnew[a, i] / Dai[a, i]\n",
    "    return tsnew\n",
    "\n",
    "\n",
    "# Stanton eq (2)\n",
    "def makeT2(x, ts, td):\n",
    "    if x == True:\n",
    "        tdnew = np.zeros((dim, dim, dim, dim))\n",
    "        for a in range(Nelec, dim):\n",
    "            for b in range(Nelec, dim):\n",
    "                for i in range(0, Nelec):\n",
    "                    for j in range(0, Nelec):\n",
    "                        tdnew[a, b, i, j] += spinints[i, j, a, b]\n",
    "                        for e in range(Nelec, dim):\n",
    "                            tdnew[a, b, i, j] += td[a, e, i, j] * Fae[b, e] - td[b, e, i, j] * Fae[a, e]\n",
    "                            for m in range(0, Nelec):\n",
    "                                tdnew[a, b, i, j] += (\n",
    "                                    -0.5 * td[a, e, i, j] * ts[b, m] * Fme[m, e]\n",
    "                                    + 0.5 * td[b, e, i, j] * ts[a, m] * Fme[m, e]\n",
    "                                )\n",
    "                                continue\n",
    "                        for m in range(0, Nelec):\n",
    "                            tdnew[a, b, i, j] += -td[a, b, i, m] * Fmi[m, j] + td[a, b, j, m] * Fmi[m, i]\n",
    "                            for e in range(Nelec, dim):\n",
    "                                tdnew[a, b, i, j] += (\n",
    "                                    -0.5 * td[a, b, i, m] * ts[e, j] * Fme[m, e]\n",
    "                                    + 0.5 * td[a, b, j, m] * ts[e, i] * Fme[m, e]\n",
    "                                )\n",
    "                                continue\n",
    "                        for e in range(Nelec, dim):\n",
    "                            tdnew[a, b, i, j] += (\n",
    "                                ts[e, i] * spinints[a, b, e, j] - ts[e, j] * spinints[a, b, e, i]\n",
    "                            )\n",
    "                            for f in range(Nelec, dim):\n",
    "                                tdnew[a, b, i, j] += 0.5 * tau(e, f, i, j) * Wabef[a, b, e, f]\n",
    "                                continue\n",
    "                        for m in range(0, Nelec):\n",
    "                            tdnew[a, b, i, j] += (\n",
    "                                -ts[a, m] * spinints[m, b, i, j] + ts[b, m] * spinints[m, a, i, j]\n",
    "                            )\n",
    "                            for e in range(Nelec, dim):\n",
    "                                tdnew[a, b, i, j] += (\n",
    "                                    td[a, e, i, m] * Wmbej[m, b, e, j]\n",
    "                                    - ts[e, i] * ts[a, m] * spinints[m, b, e, j]\n",
    "                                )\n",
    "                                tdnew[a, b, i, j] += (\n",
    "                                    -td[a, e, j, m] * Wmbej[m, b, e, i]\n",
    "                                    + ts[e, j] * ts[a, m] * spinints[m, b, e, i]\n",
    "                                )\n",
    "                                tdnew[a, b, i, j] += (\n",
    "                                    -td[b, e, i, m] * Wmbej[m, a, e, j]\n",
    "                                    + ts[e, i] * ts[b, m] * spinints[m, a, e, j]\n",
    "                                )\n",
    "                                tdnew[a, b, i, j] += (\n",
    "                                    td[b, e, j, m] * Wmbej[m, a, e, i]\n",
    "                                    - ts[e, j] * ts[b, m] * spinints[m, a, e, i]\n",
    "                                )\n",
    "                                continue\n",
    "                            for n in range(0, Nelec):\n",
    "                                tdnew[a, b, i, j] += 0.5 * tau(a, b, m, n) * Wmnij[m, n, i, j]\n",
    "                                continue\n",
    "                        tdnew[a, b, i, j] = tdnew[a, b, i, j] / Dabij[a, b, i, j]\n",
    "        return tdnew"
   ]
  },
  {
   "cell_type": "code",
   "execution_count": 10,
   "metadata": {},
   "outputs": [],
   "source": [
    "def ccsdenergy():\n",
    "    \"\"\"\n",
    "    Expression from Crawford, Schaefer (2000)\n",
    "    DOI: 10.1002/9780470125915.ch2\n",
    "    Equation (134) and (173) : Computes CCSD energy given T1 and T2\n",
    "    \"\"\"\n",
    "    ECCSD = 0.0\n",
    "    for i in range(0, Nelec):\n",
    "        for a in range(Nelec, dim):\n",
    "            ECCSD += fs[i, a] * ts[a, i]\n",
    "            for j in range(0, Nelec):\n",
    "                for b in range(Nelec, dim):\n",
    "                    ECCSD += 0.25 * spinints[i, j, a, b] * td[a, b, i, j] + 0.5 * spinints[i, j, a, b] * (\n",
    "                        ts[a, i]\n",
    "                    ) * (ts[b, j])\n",
    "    return ECCSD"
   ]
  },
  {
   "cell_type": "markdown",
   "metadata": {},
   "source": [
    "MAIN LOOP: CCSD iteration"
   ]
  },
  {
   "cell_type": "code",
   "execution_count": 11,
   "metadata": {},
   "outputs": [],
   "source": [
    "ECCSD = 0\n",
    "DECC = 1.0\n",
    "while DECC > 0.000000001:  # arbitrary convergence criteria\n",
    "    OLDCC = ECCSD\n",
    "    Fae, Fmi, Fme, Wmnij, Wabef, Wmbej = update_inter(True)\n",
    "    tsnew = makeT1(True, ts, td)\n",
    "    tdnew = makeT2(True, ts, td)\n",
    "    ts = tsnew\n",
    "    td = tdnew\n",
    "    ECCSD = ccsdenergy()\n",
    "    DECC = abs(ECCSD - OLDCC)"
   ]
  },
  {
   "cell_type": "code",
   "execution_count": 12,
   "metadata": {},
   "outputs": [
    {
     "name": "stdout",
     "output_type": "stream",
     "text": [
      "E(corr,CCSD) =  -0.008225834879316319\n",
      "E(CCSD) =  -2.862598245499316\n"
     ]
    }
   ],
   "source": [
    "print(\"E(corr,CCSD) = \", ECCSD)\n",
    "print(\"E(CCSD) = \", ECCSD + ENUC + EN)"
   ]
  }
 ],
 "metadata": {
  "kernelspec": {
   "display_name": "base",
   "language": "python",
   "name": "python3"
  },
  "language_info": {
   "codemirror_mode": {
    "name": "ipython",
    "version": 3
   },
   "file_extension": ".py",
   "mimetype": "text/x-python",
   "name": "python",
   "nbconvert_exporter": "python",
   "pygments_lexer": "ipython3",
   "version": "3.11.5"
  }
 },
 "nbformat": 4,
 "nbformat_minor": 2
}
