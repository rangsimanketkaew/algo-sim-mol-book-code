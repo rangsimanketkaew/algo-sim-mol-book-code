{
 "cells": [
  {
   "cell_type": "markdown",
   "metadata": {},
   "source": [
    "## Moller-Plesset Second Order Perturbation Theory (MP2)"
   ]
  },
  {
   "cell_type": "code",
   "execution_count": 1,
   "metadata": {},
   "outputs": [],
   "source": [
    "import numpy as np"
   ]
  },
  {
   "cell_type": "markdown",
   "metadata": {},
   "source": [
    "### Functions"
   ]
  },
  {
   "cell_type": "code",
   "execution_count": 2,
   "metadata": {},
   "outputs": [],
   "source": [
    "def eint(a, b, c, d):\n",
    "    \"\"\"Return compound index given four indices\n",
    "    \"\"\"    \n",
    "    if a > b:\n",
    "        ab = a * (a + 1) / 2 + b\n",
    "    else:\n",
    "        ab = b * (b + 1) / 2 + a\n",
    "    if c > d:\n",
    "        cd = c * (c + 1) / 2 + d\n",
    "    else:\n",
    "        cd = d * (d + 1) / 2 + c\n",
    "    if ab > cd:\n",
    "        abcd = ab * (ab + 1) / 2 + cd\n",
    "    else:\n",
    "        abcd = cd * (cd + 1) / 2 + ab\n",
    "    return abcd\n"
   ]
  },
  {
   "cell_type": "code",
   "execution_count": 3,
   "metadata": {},
   "outputs": [],
   "source": [
    "def teimo(a, b, c, d):\n",
    "    \"\"\"Return Value of spatial MO two electron integral\n",
    "    Example: (12\\vert 34) = tei(1,2,3,4)\n",
    "    \"\"\"\n",
    "    return ttmo.get(eint(a, b, c, d), 0.0e0)\n"
   ]
  },
  {
   "cell_type": "markdown",
   "metadata": {},
   "source": [
    "### Initialize orbital energies and transformed two-electron integrals"
   ]
  },
  {
   "cell_type": "code",
   "execution_count": 4,
   "metadata": {},
   "outputs": [],
   "source": [
    "Nelec = 2  # 2 electrons in HeH+\n",
    "dim = 2  # two spatial basis functions in STO-3G\n",
    "E = [-1.52378656, -0.26763148]\n",
    "ttmo = {\n",
    "    5.0: 0.94542695583037617,\n",
    "    12.0: 0.17535895381500544,\n",
    "    14.0: 0.12682234020148653,\n",
    "    17.0: 0.59855327701641903,\n",
    "    19.0: -0.056821143621433257,\n",
    "    20.0: 0.74715464784363106,\n",
    "}"
   ]
  },
  {
   "cell_type": "markdown",
   "metadata": {},
   "source": [
    "###  Convert spatial orbital to spin orbital MOs"
   ]
  },
  {
   "cell_type": "code",
   "execution_count": 5,
   "metadata": {},
   "outputs": [],
   "source": [
    "# This makes the spin basis double bar integral (physicists' notation).\n",
    "# We double the dimension (each spatial orbital is now two spin orbitals)\n",
    "\n",
    "dim = dim * 2\n",
    "ints = np.zeros((dim, dim, dim, dim))\n",
    "for p in range(1, dim + 1):\n",
    "    for q in range(1, dim + 1):\n",
    "        for r in range(1, dim + 1):\n",
    "            for s in range(1, dim + 1):\n",
    "                value1 = (\n",
    "                    teimo((p + 1) // 2, (r + 1) // 2, (q + 1) // 2, (s + 1) // 2)\n",
    "                    * (p % 2 == r % 2)\n",
    "                    * (q % 2 == s % 2)\n",
    "                )\n",
    "                value2 = (\n",
    "                    teimo((p + 1) // 2, (s + 1) // 2, (q + 1) // 2, (r + 1) // 2)\n",
    "                    * (p % 2 == s % 2)\n",
    "                    * (q % 2 == r % 2)\n",
    "                )\n",
    "                ints[p - 1, q - 1, r - 1, s - 1] = value1 - value2"
   ]
  },
  {
   "cell_type": "markdown",
   "metadata": {},
   "source": [
    "### Spin basis fock matrix eigenvalues"
   ]
  },
  {
   "cell_type": "code",
   "execution_count": 6,
   "metadata": {},
   "outputs": [],
   "source": [
    "fs = np.zeros((dim))\n",
    "for i in range(0, dim):\n",
    "    fs[i] = E[i // 2]\n",
    "# fs = np.diag(fs)"
   ]
  },
  {
   "cell_type": "markdown",
   "metadata": {},
   "source": [
    "### Perform Calculation"
   ]
  },
  {
   "cell_type": "code",
   "execution_count": 7,
   "metadata": {},
   "outputs": [
    {
     "name": "stdout",
     "output_type": "stream",
     "text": [
      "E(MP2) Correlation Energy =  -0.0064020383431405556  Hartrees\n"
     ]
    }
   ],
   "source": [
    "# First two loops sum over occupied spin orbitals\n",
    "# which is equal to the number of electrons. \n",
    "# The last two loops loop over the virtual orbitals.\n",
    "\n",
    "EMP2 = 0.0\n",
    "for i in range(0, Nelec):\n",
    "    for j in range(0, Nelec):\n",
    "        for a in range(Nelec, dim):\n",
    "            for b in range(Nelec, dim):\n",
    "                EMP2 += 0.25 * ints[i, j, a, b] * ints[i, j, a, b] / (fs[i] + fs[j] - fs[a] - fs[b])\n",
    "\n",
    "print(\"E(MP2) Correlation Energy = \", EMP2, \" Hartrees\")"
   ]
  }
 ],
 "metadata": {
  "kernelspec": {
   "display_name": "base",
   "language": "python",
   "name": "python3"
  },
  "language_info": {
   "codemirror_mode": {
    "name": "ipython",
    "version": 3
   },
   "file_extension": ".py",
   "mimetype": "text/x-python",
   "name": "python",
   "nbconvert_exporter": "python",
   "pygments_lexer": "ipython3",
   "version": "3.11.5"
  }
 },
 "nbformat": 4,
 "nbformat_minor": 2
}
