{
 "cells": [
  {
   "cell_type": "code",
   "execution_count": 1,
   "metadata": {},
   "outputs": [],
   "source": [
    "import numpy as np\n",
    "\n",
    "from scipy.special import factorial2 as fact2"
   ]
  },
  {
   "cell_type": "code",
   "execution_count": 2,
   "metadata": {},
   "outputs": [],
   "source": [
    "def E(i, j, t, Qx, a, b):\n",
    "    \"\"\"\n",
    "    Recursive definition of Hermite Gaussian coefficients.\n",
    "\n",
    "    Returns a float.\n",
    "    a: orbital exponent on Gaussian 'a' (e.g. alpha in the text)\n",
    "    b: orbital exponent on Gaussian 'b' (e.g. beta in the text)\n",
    "    i,j: orbital angular momentum number on Gaussian 'a' and 'b'\n",
    "    t: number nodes in Hermite (depends on type of integral,\n",
    "        e.g. always zero for overlap integrals)\n",
    "    Qx: distance between origins of Gaussian 'a' and 'b'\n",
    "    \"\"\"\n",
    "    p = a + b\n",
    "    q = a * b / p\n",
    "    if (t < 0) or (t > (i + j)):\n",
    "        # out of bounds for t\n",
    "        return 0.0\n",
    "    elif i == j == t == 0:\n",
    "        # base case\n",
    "        return np.exp(-q * Qx * Qx)  # K_AB\n",
    "    elif j == 0:\n",
    "        # decrement index i\n",
    "        return (\n",
    "            (1 / (2 * p)) * E(i - 1, j, t - 1, Qx, a, b)\n",
    "            - (q * Qx / a) * E(i - 1, j, t, Qx, a, b)\n",
    "            + (t + 1) * E(i - 1, j, t + 1, Qx, a, b)\n",
    "        )\n",
    "    else:\n",
    "        # decrement index j\n",
    "        return (\n",
    "            (1 / (2 * p)) * E(i, j - 1, t - 1, Qx, a, b)\n",
    "            + (q * Qx / b) * E(i, j - 1, t, Qx, a, b)\n",
    "            + (t + 1) * E(i, j - 1, t + 1, Qx, a, b)\n",
    "        )"
   ]
  },
  {
   "cell_type": "code",
   "execution_count": 3,
   "metadata": {},
   "outputs": [],
   "source": [
    "def overlap(a, lmn1, A, b, lmn2, B):\n",
    "    \"\"\"\n",
    "    Evaluates overlap integral between two Gaussians\n",
    "\n",
    "    Returns a float.\n",
    "    a:    orbital exponent on Gaussian 'a' (e.g. alpha in the text)\n",
    "    b:    orbital exponent on Gaussian 'b' (e.g. beta in the text)\n",
    "    lmn1: int tuple containing orbital angular momentum (e.g. (1,0,0))\n",
    "          for Gaussian 'a'\n",
    "    lmn2: int tuple containing orbital angular momentum for Gaussian 'b'\n",
    "    A:    list containing origin of Gaussian 'a', e.g. [1.0, 2.0, 0.0]\n",
    "    B:    list containing origin of Gaussian 'b'\n",
    "    \"\"\"\n",
    "    l1, m1, n1 = lmn1  # shell angular momentum on Gaussian 'a'\n",
    "    l2, m2, n2 = lmn2  # shell angular momentum on Gaussian 'b'\n",
    "    S1 = E(l1, l2, 0, A[0] - B[0], a, b)  # X\n",
    "    S2 = E(m1, m2, 0, A[1] - B[1], a, b)  # Y\n",
    "    S3 = E(n1, n2, 0, A[2] - B[2], a, b)  # Z\n",
    "\n",
    "    return S1 * S2 * S3 * np.power(np.pi / (a + b), 1.5)"
   ]
  },
  {
   "cell_type": "code",
   "execution_count": 4,
   "metadata": {},
   "outputs": [],
   "source": [
    "def S(a, b):\n",
    "    \"\"\"\n",
    "    Evaluates overlap between two contracted Gaussians\n",
    "\n",
    "    Returns float.\n",
    "    Arguments:\n",
    "    a: contracted Gaussian 'a', BasisFunction object\n",
    "    b: contracted Gaussian 'b', BasisFunction object\n",
    "    \"\"\"\n",
    "    s = 0.0\n",
    "    for ia, ca in enumerate(a.coefs):\n",
    "        for ib, cb in enumerate(b.coefs):\n",
    "            s += (\n",
    "                a.norm[ia]\n",
    "                * b.norm[ib]\n",
    "                * ca\n",
    "                * cb\n",
    "                * overlap(a.exps[ia], a.shell, a.origin, b.exps[ib], b.shell, b.origin)\n",
    "            )\n",
    "\n",
    "    return s"
   ]
  },
  {
   "cell_type": "code",
   "execution_count": 5,
   "metadata": {},
   "outputs": [],
   "source": [
    "class BasisFunction(object):\n",
    "    \"\"\"\n",
    "    A class that contains all our basis function data\n",
    "\n",
    "    Attributes:\n",
    "    origin: array/list containing the coordinates of the Gaussian origin\n",
    "    shell:  tuple of angular momentum\n",
    "    exps:   list of primitive Gaussian exponents\n",
    "    coefs:  list of primitive Gaussian coefficients\n",
    "    norm:   list of normalization factors for Gaussian primitives\n",
    "    \"\"\"\n",
    "\n",
    "    def __init__(self, origin=[0.0, 0.0, 0.0], shell=(0, 0, 0), exps=[], coefs=[]):\n",
    "        self.origin = np.asarray(origin)\n",
    "        self.shell = shell\n",
    "        self.exps = exps\n",
    "        self.coefs = coefs\n",
    "        self.norm = None\n",
    "        self.normalize()\n",
    "\n",
    "    def normalize(self):\n",
    "        \"\"\"\n",
    "        Routine to normalize the basis functions,\n",
    "        in case they do not integrate to unity.\n",
    "        \"\"\"\n",
    "        l, m, n = self.shell\n",
    "        L = l + m + n\n",
    "        # self.norm is a list of length equal to number primitives\n",
    "        # normalize primitives first (PGBFs)\n",
    "        self.norm = np.sqrt(\n",
    "            np.power(2, 2 * (l + m + n) + 1.5)\n",
    "            * np.power(self.exps, l + m + n + 1.5)\n",
    "            / fact2(2 * l - 1)\n",
    "            / fact2(2 * m - 1)\n",
    "            / fact2(2 * n - 1)\n",
    "            / np.power(np.pi, 1.5)\n",
    "        )\n",
    "\n",
    "        # now normalize the contracted basis functions (CGBFs)\n",
    "        # Eq. 1.44 of Valeev integral whitepaper\n",
    "        prefactor = (\n",
    "            np.power(np.pi, 1.5)\n",
    "            * fact2(2 * l - 1)\n",
    "            * fact2(2 * m - 1)\n",
    "            * fact2(2 * n - 1)\n",
    "            / np.power(2.0, L)\n",
    "        )\n",
    "\n",
    "        N = 0.0\n",
    "        num_exps = len(self.exps)\n",
    "        for ia in range(num_exps):\n",
    "            for ib in range(num_exps):\n",
    "                N += (\n",
    "                    self.norm[ia]\n",
    "                    * self.norm[ib]\n",
    "                    * self.coefs[ia]\n",
    "                    * self.coefs[ib]\n",
    "                    / np.power(self.exps[ia] + self.exps[ib], L + 1.5)\n",
    "                )\n",
    "\n",
    "        N *= prefactor\n",
    "        N = np.power(N, -0.5)\n",
    "        for ia in range(num_exps):\n",
    "            self.coefs[ia] *= N"
   ]
  },
  {
   "cell_type": "code",
   "execution_count": 6,
   "metadata": {},
   "outputs": [
    {
     "name": "stderr",
     "output_type": "stream",
     "text": [
      "/tmp/ipykernel_152263/36424954.py:31: RuntimeWarning: divide by zero encountered in divide\n",
      "  np.power(2, 2 * (l + m + n) + 1.5)\n",
      "/tmp/ipykernel_152263/36424954.py:61: RuntimeWarning: invalid value encountered in scalar multiply\n",
      "  N *= prefactor\n"
     ]
    }
   ],
   "source": [
    "myOrigin = [1.0, 2.0, 3.0]\n",
    "myShell = (0, 0, 0)  # p-orbitals would be (1,0,0) or (0,1,0) or (0,0,1), etc.\n",
    "myExps = [3.42525091, 0.62391373, 0.16885540]\n",
    "myCoefs = [0.15432897, 0.53532814, 0.44463454]\n",
    "a = BasisFunction(origin=myOrigin, shell=myShell, exps=myExps, coefs=myCoefs)"
   ]
  },
  {
   "cell_type": "code",
   "execution_count": 7,
   "metadata": {},
   "outputs": [
    {
     "data": {
      "text/plain": [
       "nan"
      ]
     },
     "execution_count": 7,
     "metadata": {},
     "output_type": "execute_result"
    }
   ],
   "source": [
    "S(a,a)"
   ]
  }
 ],
 "metadata": {
  "kernelspec": {
   "display_name": "base",
   "language": "python",
   "name": "python3"
  },
  "language_info": {
   "codemirror_mode": {
    "name": "ipython",
    "version": 3
   },
   "file_extension": ".py",
   "mimetype": "text/x-python",
   "name": "python",
   "nbconvert_exporter": "python",
   "pygments_lexer": "ipython3",
   "version": "3.11.5"
  }
 },
 "nbformat": 4,
 "nbformat_minor": 2
}
