{
 "cells": [
  {
   "cell_type": "code",
   "execution_count": 1,
   "metadata": {},
   "outputs": [],
   "source": [
    "import numpy as np\n",
    "\n",
    "from scipy.special import hyp1f1"
   ]
  },
  {
   "cell_type": "code",
   "execution_count": 2,
   "metadata": {},
   "outputs": [],
   "source": [
    "def boys(n, T):\n",
    "    return hyp1f1(n + 0.5, n + 1.5, -T) / (2.0 * n + 1.0)"
   ]
  },
  {
   "cell_type": "code",
   "execution_count": 2,
   "metadata": {},
   "outputs": [],
   "source": [
    "def R(t, u, v, n, p, PCx, PCy, PCz, RPC):\n",
    "    \"\"\"\n",
    "    Returns the Coulomb auxiliary Hermite integrals\n",
    "\n",
    "    Returns a float.\n",
    "    Arguments:\n",
    "    t,u,v:   order of Coulomb Hermite derivative in x,y,z\n",
    "              (see defs in Helgaker and Taylor)\n",
    "    n:       order of Boys function\n",
    "    PCx,y,z: Cartesian vector distance between Gaussian\n",
    "              composite center P and nuclear center C\n",
    "    RPC:     Distance between P and C\n",
    "    \"\"\"\n",
    "    T = p * RPC * RPC\n",
    "    val = 0.0\n",
    "    if t == u == v == 0:\n",
    "        val += np.power(-2 * p, n) * boys(n, T)\n",
    "    elif t == u == 0:\n",
    "        if v > 1:\n",
    "            val += (v - 1) * R(t, u, v - 2, n + 1, p, PCx, PCy, PCz, RPC)\n",
    "        val += PCz * R(t, u, v - 1, n + 1, p, PCx, PCy, PCz, RPC)\n",
    "    elif t == 0:\n",
    "        if u > 1:\n",
    "            val += (u - 1) * R(t, u - 2, v, n + 1, p, PCx, PCy, PCz, RPC)\n",
    "        val += PCy * R(t, u - 1, v, n + 1, p, PCx, PCy, PCz, RPC)\n",
    "    else:\n",
    "        if t > 1:\n",
    "            val += (t - 1) * R(t - 2, u, v, n + 1, p, PCx, PCy, PCz, RPC)\n",
    "        val += PCx * R(t - 1, u, v, n + 1, p, PCx, PCy, PCz, RPC)\n",
    "    return val"
   ]
  },
  {
   "cell_type": "code",
   "execution_count": null,
   "metadata": {},
   "outputs": [],
   "source": [
    "def gaussian_product_center(a, A, b, B):\n",
    "    return (a * A + b * B) / (a + b)"
   ]
  },
  {
   "cell_type": "code",
   "execution_count": 3,
   "metadata": {},
   "outputs": [],
   "source": [
    "def E(i, j, t, Qx, a, b):\n",
    "    \"\"\"\n",
    "    Recursive definition of Hermite Gaussian coefficients.\n",
    "\n",
    "    Returns a float.\n",
    "    a: orbital exponent on Gaussian 'a' (e.g. alpha in the text)\n",
    "    b: orbital exponent on Gaussian 'b' (e.g. beta in the text)\n",
    "    i,j: orbital angular momentum number on Gaussian 'a' and 'b'\n",
    "    t: number nodes in Hermite (depends on type of integral,\n",
    "        e.g. always zero for overlap integrals)\n",
    "    Qx: distance between origins of Gaussian 'a' and 'b'\n",
    "    \"\"\"\n",
    "    p = a + b\n",
    "    q = a * b / p\n",
    "    if (t < 0) or (t > (i + j)):\n",
    "        # out of bounds for t\n",
    "        return 0.0\n",
    "    elif i == j == t == 0:\n",
    "        # base case\n",
    "        return np.exp(-q * Qx * Qx)  # K_AB\n",
    "    elif j == 0:\n",
    "        # decrement index i\n",
    "        return (\n",
    "            (1 / (2 * p)) * E(i - 1, j, t - 1, Qx, a, b)\n",
    "            - (q * Qx / a) * E(i - 1, j, t, Qx, a, b)\n",
    "            + (t + 1) * E(i - 1, j, t + 1, Qx, a, b)\n",
    "        )\n",
    "    else:\n",
    "        # decrement index j\n",
    "        return (\n",
    "            (1 / (2 * p)) * E(i, j - 1, t - 1, Qx, a, b)\n",
    "            + (q * Qx / b) * E(i, j - 1, t, Qx, a, b)\n",
    "            + (t + 1) * E(i, j - 1, t + 1, Qx, a, b)\n",
    "        )"
   ]
  },
  {
   "cell_type": "code",
   "execution_count": 5,
   "metadata": {},
   "outputs": [],
   "source": [
    "def nuclear_attraction(a, lmn1, A, b, lmn2, B, C):\n",
    "    \"\"\"\n",
    "    Evaluates kinetic energy integral between two Gaussians\n",
    "\n",
    "    Returns a float.\n",
    "    a: orbital exponent on Gaussian 'a' (e.g. alpha in the text)\n",
    "    b: orbital exponent on Gaussian 'b' (e.g. beta in the text)\n",
    "    lmn1: int tuple containing orbital angular momentum (e.g. (1,0,0))\n",
    "          for Gaussian 'a'\n",
    "    lmn2: int tuple containing orbital angular momentum for Gaussian 'b'\n",
    "    A: list containing origin of Gaussian 'a', e.g. [1.0, 2.0, 0.0]\n",
    "    B: list containing origin of Gaussian 'b'\n",
    "    C: list containing origin of nuclear center 'C'\n",
    "    \"\"\"\n",
    "    l1, m1, n1 = lmn1\n",
    "    l2, m2, n2 = lmn2\n",
    "    p = a + b\n",
    "    P = gaussian_product_center(a, A, b, B)  # Gaussian composite center\n",
    "    RPC = np.linalg.norm(P - C)\n",
    "\n",
    "    val = 0.0\n",
    "    for t in range(l1 + l2 + 1):\n",
    "        for u in range(m1 + m2 + 1):\n",
    "            for v in range(n1 + n2 + 1):\n",
    "                val += (\n",
    "                    E(l1, l2, t, A[0] - B[0], a, b)\n",
    "                    * E(m1, m2, u, A[1] - B[1], a, b)\n",
    "                    * E(n1, n2, v, A[2] - B[2], a, b)\n",
    "                    * R(t, u, v, 0, p, P[0] - C[0], P[1] - C[1], P[2] - C[2], RPC)\n",
    "                )\n",
    "    val *= 2 * np.pi / p\n",
    "    return val"
   ]
  },
  {
   "cell_type": "code",
   "execution_count": null,
   "metadata": {},
   "outputs": [],
   "source": [
    "def V(a, b, C):\n",
    "    \"\"\"\n",
    "    Evaluates overlap between two contracted Gaussians\n",
    "\n",
    "    Returns float.\n",
    "    Arguments:\n",
    "    a: contracted Gaussian 'a', BasisFunction object\n",
    "    b: contracted Gaussian 'b', BasisFunction object\n",
    "    C: center of nucleus\n",
    "    \"\"\"\n",
    "    v = 0.0\n",
    "    for ia, ca in enumerate(a.coefs):\n",
    "        for ib, cb in enumerate(b.coefs):\n",
    "            v += (\n",
    "                a.norm[ia]\n",
    "                * b.norm[ib]\n",
    "                * ca\n",
    "                * cb\n",
    "                * nuclear_attraction(\n",
    "                    a.exps[ia], a.shell, a.origin, b.exps[ib], b.shell, b.origin, C\n",
    "                )\n",
    "            )\n",
    "    return v"
   ]
  }
 ],
 "metadata": {
  "kernelspec": {
   "display_name": "base",
   "language": "python",
   "name": "python3"
  },
  "language_info": {
   "codemirror_mode": {
    "name": "ipython",
    "version": 3
   },
   "file_extension": ".py",
   "mimetype": "text/x-python",
   "name": "python",
   "nbconvert_exporter": "python",
   "pygments_lexer": "ipython3",
   "version": "3.11.5"
  }
 },
 "nbformat": 4,
 "nbformat_minor": 2
}
