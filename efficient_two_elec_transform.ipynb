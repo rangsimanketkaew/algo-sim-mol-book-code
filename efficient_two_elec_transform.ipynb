{
 "cells": [
  {
   "cell_type": "code",
   "execution_count": 1,
   "metadata": {},
   "outputs": [],
   "source": [
    "import numpy as np\n",
    "import time"
   ]
  },
  {
   "cell_type": "code",
   "execution_count": 2,
   "metadata": {},
   "outputs": [],
   "source": [
    "# Dimension of arrays ... e.g number of basis functions\n",
    "dim = 5\n",
    "# For our first dumb O[N^8] method\n",
    "MO1 = np.zeros((dim, dim, dim, dim))  \n",
    "# For our smarter O[N^5] method\n",
    "MO2 = np.zeros((dim, dim, dim, dim))  \n",
    "\n",
    "INT = np.random.randint(\n",
    "    9, size=(dim, dim, dim, dim)\n",
    ")  # Our toy \"two electron integrals\"\n",
    "# Toy \"wavefunction coefficients\"\n",
    "C = np.random.randint(9, size=(dim, dim))  "
   ]
  },
  {
   "cell_type": "markdown",
   "metadata": {},
   "source": [
    "Begin first method. It scales as N^8, as you could have guessed with there being 8 loops over dimension 'dim' (N)"
   ]
  },
  {
   "cell_type": "code",
   "execution_count": 3,
   "metadata": {},
   "outputs": [],
   "source": [
    "t0 = time.time()\n",
    "for i in range(0, dim):\n",
    "    for j in range(0, dim):\n",
    "        for k in range(0, dim):\n",
    "            for l in range(0, dim):\n",
    "                for m in range(0, dim):\n",
    "                    for n in range(0, dim):\n",
    "                        for o in range(0, dim):\n",
    "                            for p in range(0, dim):\n",
    "                                MO1[i, j, k, l] += (\n",
    "                                    C[i, m]\n",
    "                                    * C[j, n]\n",
    "                                    * C[k, o]\n",
    "                                    * C[l, p]\n",
    "                                    * INT[m, n, o, p]\n",
    "                                )\n",
    "t1 = time.time()"
   ]
  },
  {
   "cell_type": "markdown",
   "metadata": {},
   "source": [
    "Second method, scaling as N^5. \n",
    "We end up having four 5-loops, each over dimension 'dim' (N)."
   ]
  },
  {
   "cell_type": "code",
   "execution_count": 4,
   "metadata": {},
   "outputs": [],
   "source": [
    "t2 = time.time()\n",
    "temp = np.zeros((dim, dim, dim, dim))\n",
    "temp2 = np.zeros((dim, dim, dim, dim))\n",
    "temp3 = np.zeros((dim, dim, dim, dim))\n",
    "for i in range(0, dim):\n",
    "    for m in range(0, dim):\n",
    "        temp[i, :, :, :] += C[i, m] * INT[m, :, :, :]\n",
    "    for j in range(0, dim):\n",
    "        for n in range(0, dim):\n",
    "            temp2[i, j, :, :] += C[j, n] * temp[i, n, :, :]\n",
    "        for k in range(0, dim):\n",
    "            for o in range(0, dim):\n",
    "                temp3[i, j, k, :] += C[k, o] * temp2[i, j, o, :]\n",
    "            for l in range(0, dim):\n",
    "                for p in range(0, dim):\n",
    "                    MO2[i, j, k, l] += C[l, p] * temp3[i, j, k, p]\n",
    "t3 = time.time()"
   ]
  },
  {
   "cell_type": "code",
   "execution_count": 5,
   "metadata": {},
   "outputs": [],
   "source": [
    "# Set up random index to check correctness.\n",
    "i = np.random.randint(dim)\n",
    "j = np.random.randint(dim)\n",
    "k = np.random.randint(dim)\n",
    "l = np.random.randint(dim)"
   ]
  },
  {
   "cell_type": "code",
   "execution_count": 6,
   "metadata": {},
   "outputs": [
    {
     "name": "stdout",
     "output_type": "stream",
     "text": [
      "1904496.0\n",
      "1904496.0\n",
      "Time 1:  0.2975327968597412\n",
      "Time 2:  0.0035715103149414062\n"
     ]
    }
   ],
   "source": [
    "print(MO1[i, j, k, l])\n",
    "print(MO2[i, j, k, l])\n",
    "print(\"Time 1: \", t1 - t0)\n",
    "print(\"Time 2: \", t3 - t2)"
   ]
  }
 ],
 "metadata": {
  "kernelspec": {
   "display_name": "base",
   "language": "python",
   "name": "python3"
  },
  "language_info": {
   "codemirror_mode": {
    "name": "ipython",
    "version": 3
   },
   "file_extension": ".py",
   "mimetype": "text/x-python",
   "name": "python",
   "nbconvert_exporter": "python",
   "pygments_lexer": "ipython3",
   "version": "3.11.5"
  }
 },
 "nbformat": 4,
 "nbformat_minor": 2
}
